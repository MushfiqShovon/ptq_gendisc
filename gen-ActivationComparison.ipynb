{
 "cells": [
  {
   "cell_type": "code",
   "execution_count": 1,
   "id": "8c61860c-9413-43c8-b6a7-79471f35231e",
   "metadata": {},
   "outputs": [],
   "source": [
    "import os\n",
    "import re\n",
    "import time\n",
    "import spacy\n",
    "import random\n",
    "import torch\n",
    "import torch.nn as nn\n",
    "import torch.optim as optim\n",
    "from torchtext import data\n",
    "import pandas as pd\n",
    "from models import Gen\n",
    "import warnings as wrn\n",
    "import logging\n",
    "from tqdm import tqdm\n",
    "\n",
    "SEED = 2021\n",
    "\n",
    "wrn.filterwarnings('ignore')\n",
    "os.environ['SP_DIR'] = '/opt/conda/lib/python3.11/site-packages'\n",
    "random.seed(SEED)\n",
    "torch.manual_seed(SEED)\n",
    "torch.backends.cuda.deterministic = True"
   ]
  },
  {
   "cell_type": "code",
   "execution_count": 2,
   "id": "8362160f-cfc9-4fd0-b731-551ce101fd8c",
   "metadata": {},
   "outputs": [
    {
     "name": "stdout",
     "output_type": "stream",
     "text": [
      "cuda\n"
     ]
    }
   ],
   "source": [
    "device = torch.device('cuda' if torch.cuda.is_available() else 'cpu')\n",
    "print(device)"
   ]
  },
  {
   "cell_type": "code",
   "execution_count": 3,
   "id": "389a9f31",
   "metadata": {},
   "outputs": [],
   "source": [
    "# MODE = 'inference' # 'train' or 'inference' or 'none'"
   ]
  },
  {
   "cell_type": "markdown",
   "id": "489305ff",
   "metadata": {},
   "source": [
    "### Load Data"
   ]
  },
  {
   "cell_type": "code",
   "execution_count": 4,
   "id": "bc9ceb4f",
   "metadata": {},
   "outputs": [],
   "source": [
    "train_data = pd.read_csv('data/ag_news/train.csv', header=None, usecols=[0,2])\n",
    "train_data.columns = ['label', 'text']\n",
    "valid_data = pd.read_csv('data/ag_news/valid.csv', header=None, usecols=[0,2])\n",
    "valid_data.columns = ['label', 'text']\n",
    "test_data = pd.read_csv('data/ag_news/test.csv', header=None, usecols=[0,2])\n",
    "test_data.columns = ['label', 'text']"
   ]
  },
  {
   "cell_type": "code",
   "execution_count": 5,
   "id": "cbb4b372",
   "metadata": {},
   "outputs": [
    {
     "name": "stdout",
     "output_type": "stream",
     "text": [
      "120000 5000 7600\n"
     ]
    }
   ],
   "source": [
    "TRAIN_SIZE = len(train_data)\n",
    "VALID_SIZE = len(valid_data)\n",
    "TEST_SIZE = len(test_data)\n",
    "print(TRAIN_SIZE, VALID_SIZE, TEST_SIZE)"
   ]
  },
  {
   "cell_type": "markdown",
   "id": "0b469659",
   "metadata": {},
   "source": [
    "### Clean Data"
   ]
  },
  {
   "cell_type": "code",
   "execution_count": 6,
   "id": "c97bebb4",
   "metadata": {},
   "outputs": [],
   "source": [
    "# def clean_text(text):\n",
    "#     return re.sub(r'[^A-Za-z0-9]+', ' ', str(text))"
   ]
  },
  {
   "cell_type": "code",
   "execution_count": 7,
   "id": "d1ce9d10",
   "metadata": {},
   "outputs": [],
   "source": [
    "# train_data['text'] = train_data['text'].apply(clean_text)\n",
    "# valid_data['text'] = valid_data['text'].apply(clean_text)\n",
    "# test_data['text'] = test_data['text'].apply(clean_text)\n",
    "\n",
    "# train_data.to_csv('data/ag_news3/train_clean.csv', index=False, header=False)\n",
    "# valid_data.to_csv('data/ag_news3/valid_clean.csv', index=False, header=False)\n",
    "# test_data.to_csv('data/ag_news3/test_clean.csv', index=False, header=False)"
   ]
  },
  {
   "cell_type": "markdown",
   "id": "f84f7acf",
   "metadata": {},
   "source": [
    "### Tokenize Data"
   ]
  },
  {
   "cell_type": "code",
   "execution_count": 8,
   "id": "5fd2877d",
   "metadata": {},
   "outputs": [],
   "source": [
    "spacy_en = spacy.load('en_core_web_sm')\n",
    "\n",
    "def spacy_tokenizer(text):\n",
    "    return [tok.text for tok in spacy_en.tokenizer(text)]"
   ]
  },
  {
   "cell_type": "code",
   "execution_count": 9,
   "id": "3f4d6f5f",
   "metadata": {},
   "outputs": [],
   "source": [
    "LABEL = data.LabelField()\n",
    "TEXT = data.Field(tokenize=spacy_tokenizer, batch_first=True, include_lengths=True)\n",
    "fields = [('label', LABEL), ('text', TEXT)]"
   ]
  },
  {
   "cell_type": "code",
   "execution_count": 10,
   "id": "752038e8",
   "metadata": {},
   "outputs": [],
   "source": [
    "train_dataset = data.TabularDataset(path='data/ag_news/train_clean.csv', format='csv', fields=fields, skip_header=True)\n",
    "valid_dataset = data.TabularDataset(path='data/ag_news/valid_clean.csv', format='csv', fields=fields, skip_header=True)\n",
    "test_dataset = data.TabularDataset(path='data/ag_news/test_clean.csv', format='csv', fields=fields, skip_header=True)"
   ]
  },
  {
   "cell_type": "code",
   "execution_count": 11,
   "id": "44c0f16a",
   "metadata": {},
   "outputs": [
    {
     "name": "stdout",
     "output_type": "stream",
     "text": [
      "{'label': '4', 'text': ['Apple', 'yesterday', 'released', 'a', '12', '7', 'MB', 'security', 'update', 'that', 'consists', 'of', 'several', 'revised', 'components', 'including', 'Apache', 'AppKit', 'HIToolbox', 'Kerberos', 'Postfix', 'PSNormalizer', 'Safari', 'and', 'Terminal']}\n"
     ]
    }
   ],
   "source": [
    "print(vars(train_dataset.examples[0]))"
   ]
  },
  {
   "cell_type": "code",
   "execution_count": 12,
   "id": "2acb6135",
   "metadata": {},
   "outputs": [],
   "source": [
    "TEXT.build_vocab(train_dataset, min_freq=5)\n",
    "LABEL.build_vocab(train_dataset)"
   ]
  },
  {
   "cell_type": "code",
   "execution_count": 13,
   "id": "11ac73a1-fd06-4a25-bf08-2200b8a09efd",
   "metadata": {},
   "outputs": [],
   "source": [
    "import random\n",
    "from collections import defaultdict\n",
    "from torchtext import data\n",
    "\n",
    "def sample_uneven_by_class(dataset, label_field, global_fraction, class_distribution, seed=2021):\n",
    "    \"\"\"\n",
    "    Samples a subset from `dataset` with an *uneven* class distribution.\n",
    "\n",
    "    Args:\n",
    "        dataset: TorchText Dataset (e.g., train_dataset).\n",
    "                 Important: This dataset must share the same label_field\n",
    "                 whose vocabulary is *already built* so that\n",
    "                 label_field.vocab.stoi[...] works correctly.\n",
    "        label_field: The corresponding LabelField object (e.g., LABEL).\n",
    "                     Must have label_field.vocab built already.\n",
    "        global_fraction: The fraction of the entire dataset to sample (e.g. 0.1).\n",
    "        class_distribution: List of fractions specifying how the total sample\n",
    "                            should be divided among classes. Must sum to 1.0.\n",
    "                            Example: [0.30, 0.25, 0.25, 0.20] for 4 classes.\n",
    "        seed: For reproducible sampling.\n",
    "    \n",
    "    Returns:\n",
    "        A new TorchText Dataset with the uneven distribution among classes.\n",
    "    \"\"\"\n",
    "    random.seed(seed)\n",
    "    \n",
    "    total_size = len(dataset)\n",
    "    total_sample_size = int(total_size * global_fraction)\n",
    "    \n",
    "    # Group examples by *numeric label index*\n",
    "    label_to_examples = defaultdict(list)\n",
    "    for ex in dataset.examples:\n",
    "        # Typically ex.label is a *string*, so convert to numeric index\n",
    "        label_str = ex.label\n",
    "        numeric_idx = label_field.vocab.stoi[label_str]\n",
    "        label_to_examples[numeric_idx].append(ex)\n",
    "    \n",
    "    # number of classes based on your specified distribution\n",
    "    num_classes = len(class_distribution)\n",
    "\n",
    "    # Alternatively, you could infer the number of distinct labels from the dataset:\n",
    "    # num_classes_in_data = len(label_to_examples.keys())\n",
    "\n",
    "    # Check for mismatch\n",
    "    if num_classes != len(label_to_examples):\n",
    "        raise ValueError(\n",
    "            f\"Mismatch in # of classes: distribution has {num_classes} entries, \"\n",
    "            f\"but data has {len(label_to_examples)} distinct labels.\"\n",
    "        )\n",
    "    \n",
    "    # Compute how many examples from each class we *want* to sample\n",
    "    samples_per_class = []\n",
    "    for i in range(num_classes):\n",
    "        desired_count = int(class_distribution[i] * total_sample_size)\n",
    "        samples_per_class.append(desired_count)\n",
    "    \n",
    "    # Because of integer rounding, sum might not match total_sample_size\n",
    "    sum_samples = sum(samples_per_class)\n",
    "    diff = total_sample_size - sum_samples\n",
    "    \n",
    "    # Distribute leftover or shortage due to rounding\n",
    "    idx = 0\n",
    "    while diff > 0:\n",
    "        samples_per_class[idx] += 1\n",
    "        diff -= 1\n",
    "        idx = (idx + 1) % num_classes\n",
    "    while diff < 0:\n",
    "        if samples_per_class[idx] > 0:\n",
    "            samples_per_class[idx] -= 1\n",
    "            diff += 1\n",
    "        idx = (idx + 1) % num_classes\n",
    "    \n",
    "    # Now sample from each class\n",
    "    sampled_examples = []\n",
    "    for class_idx in range(num_classes):\n",
    "        examples_list = label_to_examples[class_idx]\n",
    "        to_sample = min(samples_per_class[class_idx], len(examples_list))\n",
    "        \n",
    "        # random.sample raises an error if to_sample > len(examples_list), hence min(...)\n",
    "        sampled = random.sample(examples_list, to_sample)\n",
    "        sampled_examples.extend(sampled)\n",
    "    \n",
    "    # Build a new TorchText Dataset from the sampled examples\n",
    "    new_dataset = data.Dataset(\n",
    "        sampled_examples,\n",
    "        fields={\n",
    "            \"label\": label_field,\n",
    "            \"text\": dataset.fields[\"text\"],  # or rename if your text field is different\n",
    "        }\n",
    "    )\n",
    "    \n",
    "    return new_dataset"
   ]
  },
  {
   "cell_type": "code",
   "execution_count": 14,
   "id": "a2004963-8098-4e4b-8312-e0ac067fc86b",
   "metadata": {},
   "outputs": [],
   "source": [
    "global_fraction = 0.05\n",
    "class_distribution = [0.25, 0.25, 0.25, 0.25]\n",
    "\n",
    "ActCheckData= sample_uneven_by_class(\n",
    "    dataset=test_dataset,\n",
    "    label_field=LABEL,\n",
    "    global_fraction=global_fraction,\n",
    "    class_distribution=class_distribution,\n",
    "    seed=2021\n",
    ")\n",
    "\n",
    "TEST_SIZE = len(ActCheckData)"
   ]
  },
  {
   "cell_type": "code",
   "execution_count": 15,
   "id": "5ecf5dd5-bbe7-4298-84bd-83b443c0fe7d",
   "metadata": {},
   "outputs": [
    {
     "name": "stdout",
     "output_type": "stream",
     "text": [
      "Class '2' -> index 0 -> 95 examples\n",
      "Class '3' -> index 1 -> 95 examples\n",
      "Class '4' -> index 2 -> 95 examples\n",
      "Class '1' -> index 3 -> 94 examples\n"
     ]
    }
   ],
   "source": [
    "from collections import Counter\n",
    "\n",
    "def show_class_distribution(dataset, label_field):\n",
    "    label_counts = Counter(ex.label for ex in dataset.examples)\n",
    "    for label_str, count in label_counts.items():\n",
    "        numeric_idx = label_field.vocab.stoi[label_str]\n",
    "        print(f\"Class '{label_str}' -> index {numeric_idx} -> {count} examples\")\n",
    "\n",
    "show_class_distribution(ActCheckData, LABEL)"
   ]
  },
  {
   "cell_type": "code",
   "execution_count": 16,
   "id": "f1b82075",
   "metadata": {},
   "outputs": [
    {
     "name": "stdout",
     "output_type": "stream",
     "text": [
      "Number of instances per class: {'2': 30000, '3': 30000, '4': 30000, '1': 29999}\n",
      "Size of text vocab: 27797\n",
      "Size of label vocab: 4\n"
     ]
    }
   ],
   "source": [
    "label_counts = {LABEL.vocab.itos[i]: LABEL.vocab.freqs[LABEL.vocab.itos[i]] for i in range(len(LABEL.vocab))}\n",
    "print(\"Number of instances per class:\", label_counts)\n",
    "\n",
    "print(\"Size of text vocab:\",len(TEXT.vocab))\n",
    "\n",
    "print(\"Size of label vocab:\",len(LABEL.vocab))"
   ]
  },
  {
   "cell_type": "code",
   "execution_count": 17,
   "id": "d87c885b",
   "metadata": {},
   "outputs": [
    {
     "data": {
      "text/plain": [
       "[('the', 174008),\n",
       " ('to', 96378),\n",
       " ('a', 95595),\n",
       " ('of', 89434),\n",
       " ('in', 76339),\n",
       " ('and', 66138),\n",
       " ('on', 47406),\n",
       " ('s', 43763),\n",
       " ('for', 37311),\n",
       " ('39', 31877)]"
      ]
     },
     "execution_count": 17,
     "metadata": {},
     "output_type": "execute_result"
    }
   ],
   "source": [
    "TEXT.vocab.freqs.most_common(10)"
   ]
  },
  {
   "cell_type": "code",
   "execution_count": 18,
   "id": "08fd08da",
   "metadata": {},
   "outputs": [],
   "source": [
    "BATCH_SIZE = 32\n",
    "\n",
    "train_iterator, valid_iterator = data.BucketIterator.splits(\n",
    "    (train_dataset, valid_dataset),\n",
    "    batch_size=BATCH_SIZE,\n",
    "    sort_key=lambda x: len(x.text),\n",
    "    sort_within_batch=True,\n",
    "    device=device\n",
    ")\n",
    "\n",
    "test_iterator = data.BucketIterator(\n",
    "    test_dataset,\n",
    "    batch_size=BATCH_SIZE,\n",
    "    sort_key=lambda x: len(x.text),\n",
    "    sort_within_batch=True,\n",
    "    device=device\n",
    ")\n",
    "\n",
    "ActCheckIterator = data.BucketIterator(\n",
    "    ActCheckData,\n",
    "    batch_size=BATCH_SIZE,\n",
    "    sort_key=lambda x: len(x.text),\n",
    "    sort_within_batch=True,\n",
    "    device=device\n",
    ")"
   ]
  },
  {
   "cell_type": "markdown",
   "id": "6b728424",
   "metadata": {},
   "source": [
    "### Define Batches"
   ]
  },
  {
   "cell_type": "code",
   "execution_count": 19,
   "id": "f4f8a11e",
   "metadata": {},
   "outputs": [],
   "source": [
    "VOCAB_SIZE= len(TEXT.vocab)\n",
    "WORD_EMB_DIM = 100\n",
    "LABEL_EMB_DIM = 100\n",
    "HID_DIM = 100\n",
    "NLAYERS = 1\n",
    "NCLASS = len(LABEL.vocab)\n",
    "DROPOUT = 0\n",
    "USE_CUDA = torch.cuda.is_available()\n",
    "TIED = False\n",
    "USE_BIAS = False\n",
    "CONCAT_LABEL = 'hidden'\n",
    "AVG_LOSS = False\n",
    "ONE_HOT = False\n",
    "BIT_WIDTH = 4\n",
    "\n",
    "LR = 1e-4\n",
    "LOG_INTERVAL = 200\n",
    "CLIP = 1.0\n",
    "LOGGING = logging.INFO"
   ]
  },
  {
   "cell_type": "code",
   "execution_count": 20,
   "id": "826fcac5",
   "metadata": {},
   "outputs": [],
   "source": [
    "model = Gen(VOCAB_SIZE, WORD_EMB_DIM, LABEL_EMB_DIM, HID_DIM, NLAYERS, NCLASS, DROPOUT, USE_CUDA, TIED, USE_BIAS, CONCAT_LABEL, AVG_LOSS, ONE_HOT).to(device)\n",
    "criterion = nn.CrossEntropyLoss(reduce=False).to(device)\n",
    "optimizer = optim.Adam(model.parameters(), lr=1e-4, weight_decay=1e-5)"
   ]
  },
  {
   "cell_type": "code",
   "execution_count": 21,
   "id": "4ec3ab3c-dd80-457c-818f-3aae25e9cc73",
   "metadata": {},
   "outputs": [],
   "source": [
    "def init_hidden(model, bsz):\n",
    "    weight = next(model.parameters())\n",
    "    # Return hidden state and cell state as 2D tensors\n",
    "    return (weight.new_zeros(NLAYERS, HID_DIM),\n",
    "            weight.new_zeros(NLAYERS, HID_DIM))"
   ]
  },
  {
   "cell_type": "code",
   "execution_count": 22,
   "id": "537e3186",
   "metadata": {},
   "outputs": [],
   "source": [
    "def evaluate(valid_iterator, model, criterion, mode='valid', model_state=0):\n",
    "    model.eval()\n",
    "    total_loss = 0.0\n",
    "    total_correct = 0\n",
    "    cnt = 0\n",
    "    \n",
    "    with torch.no_grad():\n",
    "        for batch in tqdm(valid_iterator, desc=f\"Evaluating ({mode})\", leave=True):\n",
    "            sents = [torch.tensor(row) for row in batch.text[0]]\n",
    "            labels = batch.label\n",
    "            # y_exts = [torch.full((batch.text[0].shape[1],), labels[i], dtype=torch.long) for i in range(len(labels))]\n",
    "            y_exts = []\n",
    "            for y_label in range(NCLASS):\n",
    "                y_ext = []\n",
    "                for d in sents:\n",
    "                    y_ext.append(torch.LongTensor([y_label] * (len(d) - 1)))\n",
    "                y_exts.append(y_ext)\n",
    "            \n",
    "            \n",
    "            hidden = init_hidden(model, len(sents))\n",
    "            x = nn.utils.rnn.pack_sequence([s[:-1] for s in sents])\n",
    "            x_pred = nn.utils.rnn.pack_sequence([s[1:] for s in sents])\n",
    "\n",
    "            # p_y = torch.FloatTensor([0.071] * len(seq_len))\n",
    "\n",
    "            losses = []\n",
    "            for y_ext in y_exts:\n",
    "                y_ext = nn.utils.rnn.pack_sequence(y_ext)\n",
    "\n",
    "                if device.type == 'cuda':\n",
    "                    x, y_ext, x_pred, labels = x.cuda(), y_ext.cuda(), x_pred.cuda(), labels.cuda()\n",
    "\n",
    "                # output (batch_size, )\n",
    "                hidden = init_hidden(model, len(sents))\n",
    "                \n",
    "                out = model(x, x_pred, y_ext, hidden, criterion, model_state)\n",
    "                \n",
    "                loss_matrix = criterion(out, x_pred.data)\n",
    "\n",
    "                LM_loss = nn.utils.rnn.pad_packed_sequence(nn.utils.rnn.PackedSequence(\n",
    "                    loss_matrix, x.batch_sizes))[0].transpose(0,1)\n",
    "                sum_loss = torch.sum(LM_loss, dim = 1)\n",
    "                \n",
    "                losses.append(sum_loss)\n",
    "\n",
    "            losses = torch.cat(losses, dim=0).view(-1, len(sents))\n",
    "            prediction = torch.argmin(losses, dim=0)\n",
    "\n",
    "            num_correct = (prediction == labels).float().sum()\n",
    "\n",
    "            total_loss += torch.sum(torch.min(losses, dim=0)[0]).item()\n",
    "            total_correct += num_correct.item()\n",
    "            cnt += 1\n",
    "\n",
    "    return total_loss / cnt, total_correct / (VALID_SIZE if mode == 'valid' else TEST_SIZE if mode == 'test' else '0') * 100.0"
   ]
  },
  {
   "cell_type": "code",
   "execution_count": 23,
   "id": "1b65f54e-bbfb-4c65-82c2-4b9af2eb36a7",
   "metadata": {},
   "outputs": [],
   "source": [
    "activation_histograms = {}\n",
    "\n",
    "def activation_hook(name):\n",
    "    def hook(model, input, output):\n",
    "        # If the output is a tuple (e.g., LSTM), take the first element\n",
    "        if isinstance(output, tuple):\n",
    "            output = output[0]  # Extract the actual output tensor\n",
    "        activation_histograms[name] = output.detach().cpu().numpy()\n",
    "    return hook"
   ]
  },
  {
   "cell_type": "code",
   "execution_count": 24,
   "id": "095ee65b-14d6-4e3f-a940-70113fa37aba",
   "metadata": {},
   "outputs": [
    {
     "data": {
      "text/plain": [
       "<torch.utils.hooks.RemovableHandle at 0x7f89f7d0c410>"
      ]
     },
     "execution_count": 24,
     "metadata": {},
     "output_type": "execute_result"
    }
   ],
   "source": [
    "# Register hooks for layers you want to track\n",
    "model.encoder.register_forward_hook(activation_hook('encoder'))\n",
    "model.label_encoder.register_forward_hook(activation_hook('label_encoder'))\n",
    "model.rnn.register_forward_hook(activation_hook('rnn'))\n",
    "model.decoder.register_forward_hook(activation_hook('decoder'))"
   ]
  },
  {
   "cell_type": "code",
   "execution_count": 25,
   "id": "2e011f48",
   "metadata": {},
   "outputs": [
    {
     "name": "stderr",
     "output_type": "stream",
     "text": [
      "Evaluating (test): 100%|██████████████████████████████████████████████████████████████████████████████████████████████████████████████████████████████████████████████████████| 12/12 [00:03<00:00,  3.82it/s]"
     ]
    },
    {
     "name": "stdout",
     "output_type": "stream",
     "text": [
      "=========================================================================================\n",
      "Test Loss: 7420.6780192057295 | Test Acc:  87.59894459102902\n",
      "=========================================================================================\n"
     ]
    },
    {
     "name": "stderr",
     "output_type": "stream",
     "text": [
      "\n"
     ]
    }
   ],
   "source": [
    "model.load_state_dict(torch.load('gen_lstm_spacy_ag_news.pth'))\n",
    "model.eval()\n",
    "\n",
    "test_loss, test_acc = evaluate(ActCheckIterator, model, criterion, mode='test', model_state='fp')\n",
    "print('=' * 89)\n",
    "print(f'Test Loss: {test_loss} | Test Acc:  {test_acc}')\n",
    "print('=' * 89)"
   ]
  },
  {
   "cell_type": "code",
   "execution_count": 26,
   "id": "87bc00de-4ec0-4391-827c-4641bb53e050",
   "metadata": {},
   "outputs": [
    {
     "data": {
      "image/png": "[encoded data removed]",
      "text/plain": [
       "<Figure size 1000x600 with 1 Axes>"
      ]
     },
     "metadata": {},
     "output_type": "display_data"
    },
    {
     "data": {
      "image/png": "[encoded data removed]",
      "text/plain": [
       "<Figure size 1000x600 with 1 Axes>"
      ]
     },
     "metadata": {},
     "output_type": "display_data"
    },
    {
     "data": {
      "image/png": "[encoded data removed]",
      "text/plain": [
       "<Figure size 1000x600 with 1 Axes>"
      ]
     },
     "metadata": {},
     "output_type": "display_data"
    },
    {
     "data": {
      "image/png": "[encoded data removed]",
      "text/plain": [
       "<Figure size 1000x600 with 1 Axes>"
      ]
     },
     "metadata": {},
     "output_type": "display_data"
    }
   ],
   "source": [
    "import matplotlib.pyplot as plt\n",
    "\n",
    "def plot_activation_histograms(activation_histograms):\n",
    "    for layer_name, activations in activation_histograms.items():\n",
    "        # Flatten the activations for histogram plotting\n",
    "        flattened_activations = activations.flatten()\n",
    "        plt.figure(figsize=(10, 6))\n",
    "        plt.hist(flattened_activations, bins=50, alpha=0.7, color='blue')\n",
    "        plt.title(f'Activation Distribution for {layer_name}')\n",
    "        plt.xlabel('Activation Value')\n",
    "        plt.ylabel('Frequency')\n",
    "        plt.grid(True)\n",
    "        plt.show()\n",
    "\n",
    "# Now each layer in `activation_histograms` is a list of NumPy arrays\n",
    "import numpy as np\n",
    "\n",
    "for layer_name in activation_histograms:\n",
    "    all_batches = activation_histograms[layer_name]\n",
    "    # Concatenate across batch dimension\n",
    "    activation_histograms[layer_name] = np.concatenate(all_batches, axis=0)\n",
    "\n",
    "plot_activation_histograms(activation_histograms)"
   ]
  },
  {
   "cell_type": "code",
   "execution_count": 27,
   "id": "d6028835-fcb6-4f66-be59-ae8de959f4a5",
   "metadata": {},
   "outputs": [
    {
     "name": "stdout",
     "output_type": "stream",
     "text": [
      "Saved histogram image: activation_histograms/encoder_histogram.png\n",
      "Saved histogram image: activation_histograms/label_encoder_histogram.png\n",
      "Saved histogram image: activation_histograms/rnn_histogram.png\n",
      "Saved histogram image: activation_histograms/decoder_histogram.png\n"
     ]
    }
   ],
   "source": [
    "def save_activation_histograms(activation_histograms, folder=\"activation_histograms\"):\n",
    "    os.makedirs(folder, exist_ok=True)  # Create directory if it doesn't exist\n",
    "\n",
    "    for layer_name, activations in activation_histograms.items():\n",
    "        flattened_activations = activations.flatten()\n",
    "\n",
    "        # Save the histogram as an image\n",
    "        plt.figure(figsize=(10, 6))\n",
    "        plt.hist(flattened_activations, bins=50, alpha=0.7, color='blue')\n",
    "        plt.title(f'Activation Distribution for {layer_name}')\n",
    "        plt.xlabel('Activation Value')\n",
    "        plt.ylabel('Frequency')\n",
    "        plt.grid(True)\n",
    "\n",
    "        file_path = os.path.join(folder, f\"{layer_name}_histogram.png\")\n",
    "        plt.savefig(file_path)\n",
    "        plt.close()  # Close figure to free memory\n",
    "\n",
    "        print(f\"Saved histogram image: {file_path}\")\n",
    "\n",
    "# Call this function after running a forward pass\n",
    "save_activation_histograms(activation_histograms)"
   ]
  },
  {
   "cell_type": "code",
   "execution_count": 28,
   "id": "0f2fa7f9-9709-4674-b57d-5b95005e319d",
   "metadata": {},
   "outputs": [
    {
     "name": "stdout",
     "output_type": "stream",
     "text": [
      "Saved activations as .csv: activation_data_csv/encoder_activations.csv\n",
      "Saved activations as .csv: activation_data_csv/label_encoder_activations.csv\n",
      "Saved activations as .csv: activation_data_csv/rnn_activations.csv\n",
      "Saved activations as .csv: activation_data_csv/decoder_activations.csv\n"
     ]
    }
   ],
   "source": [
    "import pandas as pd\n",
    "\n",
    "def save_activation_data_csv(activation_histograms, folder=\"activation_data_csv\"):\n",
    "    os.makedirs(folder, exist_ok=True)\n",
    "\n",
    "    for layer_name, activations in activation_histograms.items():\n",
    "        flattened_activations = activations.flatten()\n",
    "\n",
    "        # Convert to DataFrame and save as CSV\n",
    "        df = pd.DataFrame(flattened_activations, columns=[\"Activation\"])\n",
    "        file_path = os.path.join(folder, f\"{layer_name}_activations.csv\")\n",
    "        df.to_csv(file_path, index=False)\n",
    "        print(f\"Saved activations as .csv: {file_path}\")\n",
    "\n",
    "# Call this function to save activations as CSV\n",
    "save_activation_data_csv(activation_histograms)"
   ]
  },
  {
   "cell_type": "code",
   "execution_count": 29,
   "id": "a06cf1a6-3ab9-48ec-a7bd-d2388b5414e0",
   "metadata": {},
   "outputs": [
    {
     "name": "stdout",
     "output_type": "stream",
     "text": [
      "Saved activations as .npy: activation_data_npy/encoder_activations.npy\n",
      "Saved activations as .npy: activation_data_npy/label_encoder_activations.npy\n",
      "Saved activations as .npy: activation_data_npy/rnn_activations.npy\n",
      "Saved activations as .npy: activation_data_npy/decoder_activations.npy\n"
     ]
    }
   ],
   "source": [
    "def save_activation_data_npy(activation_histograms, folder=\"activation_data_npy\"):\n",
    "    os.makedirs(folder, exist_ok=True)\n",
    "\n",
    "    for layer_name, activations in activation_histograms.items():\n",
    "        file_path = os.path.join(folder, f\"{layer_name}_activations.npy\")\n",
    "        np.save(file_path, activations)\n",
    "        print(f\"Saved activations as .npy: {file_path}\")\n",
    "\n",
    "# Call this function to save activations\n",
    "save_activation_data_npy(activation_histograms)"
   ]
  },
  {
   "cell_type": "code",
   "execution_count": 30,
   "id": "83083b8c-149b-45be-9859-abf50926c82b",
   "metadata": {},
   "outputs": [],
   "source": [
    "from brevitas.graph.quantize import preprocess_for_quantize\n",
    "from ptq_common import quantize_model, apply_bias_correction, apply_act_equalization"
   ]
  },
  {
   "cell_type": "code",
   "execution_count": 31,
   "id": "85d518c5-d36d-4689-bb4b-67b524b45527",
   "metadata": {},
   "outputs": [],
   "source": [
    "# pre_model = preprocess_for_quantize(\n",
    "#             model,\n",
    "#             equalize_iters=20,\n",
    "#             equalize_merge_bias=True,\n",
    "#             merge_bn=True,\n",
    "#             channel_splitting_ratio=0.0,\n",
    "#             channel_splitting_split_input=False)"
   ]
  },
  {
   "cell_type": "code",
   "execution_count": 32,
   "id": "a677b6c6-749b-441a-b026-1827f70e4222",
   "metadata": {},
   "outputs": [
    {
     "name": "stdout",
     "output_type": "stream",
     "text": [
      "device is set to  cpu\n",
      "Quantizing the model\n",
      "Quantization completed!\n",
      "device is set back to  cuda\n"
     ]
    }
   ],
   "source": [
    "dtype = getattr(torch, 'float')\n",
    "device = torch.device('cpu')\n",
    "print(\"device is set to \",device)\n",
    "print(\"Quantizing the model\")\n",
    "quant_model = quantize_model(\n",
    "        model.to(device),\n",
    "        dtype=dtype,\n",
    "        device=device,\n",
    "        backend='layerwise',\n",
    "        scale_factor_type='float_scale',\n",
    "        bias_bit_width=32,\n",
    "        weight_bit_width=BIT_WIDTH,\n",
    "        weight_narrow_range=False,\n",
    "        weight_param_method='stats',\n",
    "        weight_quant_granularity='per_tensor',\n",
    "        weight_quant_type='sym',\n",
    "        layerwise_first_last_bit_width=BIT_WIDTH,\n",
    "        act_bit_width=BIT_WIDTH,\n",
    "        act_param_method='stats',\n",
    "        act_quant_percentile=99.99,\n",
    "        act_quant_type='sym',\n",
    "        quant_format='int',\n",
    "        layerwise_first_last_mantissa_bit_width=4,\n",
    "        layerwise_first_last_exponent_bit_width=3,\n",
    "        weight_mantissa_bit_width=4,\n",
    "        weight_exponent_bit_width=3,\n",
    "        act_mantissa_bit_width=4,\n",
    "        act_exponent_bit_width=3).to(device) \n",
    "\n",
    "print(\"Quantization completed!\")\n",
    "device = torch.device('cuda')\n",
    "print(\"device is set back to \",device)\n",
    "model=model.to(device)\n",
    "quant_model=quant_model.to(device)"
   ]
  },
  {
   "cell_type": "code",
   "execution_count": 33,
   "id": "379defec-8768-477a-a15f-4c02ee0c2c2d",
   "metadata": {},
   "outputs": [],
   "source": [
    "quant_model.load_state_dict(torch.load(f'./GenQuantResultsWithUnevenDist_ag_news/ModelParameter_Gen_{BIT_WIDTH}bit_0.25_0.25_0.25_0.25.pth', map_location=device), strict=False)\n",
    "quant_model=quant_model.to(device)"
   ]
  },
  {
   "cell_type": "code",
   "execution_count": 34,
   "id": "8c025239-f55b-493d-81e2-7683f30a7d83",
   "metadata": {},
   "outputs": [
    {
     "name": "stdout",
     "output_type": "stream",
     "text": [
      "encoder.weight\n",
      "encoder.weight_quant.tensor_quant.scaling_impl.value\n",
      "label_encoder.weight\n",
      "label_encoder.weight_quant.tensor_quant.scaling_impl.value\n",
      "rnn.layers.0.0.cell.output_quant.fused_activation_quant_proxy.tensor_quant.scaling_impl.value\n",
      "rnn.layers.0.0.cell.cell_state_quant.fused_activation_quant_proxy.tensor_quant.scaling_impl.value\n",
      "rnn.layers.0.0.cell.input_acc_quant.fused_activation_quant_proxy.tensor_quant.scaling_impl.value\n",
      "rnn.layers.0.0.cell.forget_acc_quant.fused_activation_quant_proxy.tensor_quant.scaling_impl.value\n",
      "rnn.layers.0.0.cell.cell_acc_quant.fused_activation_quant_proxy.tensor_quant.scaling_impl.value\n",
      "rnn.layers.0.0.cell.output_acc_quant.fused_activation_quant_proxy.tensor_quant.scaling_impl.value\n",
      "rnn.layers.0.0.cell.input_sigmoid_quant.fused_activation_quant_proxy.tensor_quant.scaling_impl.value\n",
      "rnn.layers.0.0.cell.forget_sigmoid_quant.fused_activation_quant_proxy.tensor_quant.scaling_impl.value\n",
      "rnn.layers.0.0.cell.cell_tanh_quant.fused_activation_quant_proxy.tensor_quant.scaling_impl.value\n",
      "rnn.layers.0.0.cell.output_sigmoid_quant.fused_activation_quant_proxy.tensor_quant.scaling_impl.value\n",
      "rnn.layers.0.0.cell.hidden_state_tanh_quant.fused_activation_quant_proxy.tensor_quant.scaling_impl.value\n",
      "rnn.layers.0.0.input_gate_params.bias\n",
      "rnn.layers.0.0.input_gate_params.input_weight.weight\n",
      "rnn.layers.0.0.input_gate_params.input_weight.weight_quant.tensor_quant.scaling_impl.value\n",
      "rnn.layers.0.0.input_gate_params.input_weight.weight_quant.tensor_quant.scaling_impl.parameter_list_stats.extra_tracked_params_list.0.parameter\n",
      "rnn.layers.0.0.forget_gate_params.bias\n",
      "rnn.layers.0.0.forget_gate_params.input_weight.weight\n",
      "rnn.layers.0.0.forget_gate_params.input_weight.weight_quant.tensor_quant.scaling_impl.value\n",
      "rnn.layers.0.0.forget_gate_params.input_weight.weight_quant.tensor_quant.scaling_impl.parameter_list_stats.extra_tracked_params_list.0.parameter\n",
      "rnn.layers.0.0.cell_gate_params.bias\n",
      "rnn.layers.0.0.cell_gate_params.input_weight.weight\n",
      "rnn.layers.0.0.cell_gate_params.input_weight.weight_quant.tensor_quant.scaling_impl.value\n",
      "rnn.layers.0.0.cell_gate_params.input_weight.weight_quant.tensor_quant.scaling_impl.parameter_list_stats.extra_tracked_params_list.0.parameter\n",
      "rnn.layers.0.0.output_gate_params.bias\n",
      "rnn.layers.0.0.output_gate_params.input_weight.weight\n",
      "rnn.layers.0.0.output_gate_params.input_weight.weight_quant.tensor_quant.scaling_impl.value\n",
      "rnn.layers.0.0.output_gate_params.input_weight.weight_quant.tensor_quant.scaling_impl.parameter_list_stats.extra_tracked_params_list.0.parameter\n",
      "decoder.weight\n",
      "decoder.input_quant.fused_activation_quant_proxy.tensor_quant.scaling_impl.value\n",
      "decoder.weight_quant.tensor_quant.scaling_impl.value\n"
     ]
    }
   ],
   "source": [
    "for name, param in quant_model.named_parameters():\n",
    "    print(name)"
   ]
  },
  {
   "cell_type": "code",
   "execution_count": 35,
   "id": "e7160da6-5ed1-4a83-8f87-21a8aa7c2e4d",
   "metadata": {},
   "outputs": [],
   "source": [
    "activation_histograms_quant = {}\n",
    "\n",
    "def activation_hook(layer_name):\n",
    "    \"\"\"\n",
    "    Creates a hook function that:\n",
    "      1) Extracts the output tensor.\n",
    "      2) Appends it to a dictionary entry keyed by `layer_name`.\n",
    "    \"\"\"\n",
    "    def hook(module, inp, out):\n",
    "        # Some modules (LSTM) may output tuples (e.g., (output, (h_n, c_n))).\n",
    "        # We only want the actual output tensor, so if it's a tuple, pick out [0].\n",
    "        if isinstance(out, tuple):\n",
    "            out = out[0]\n",
    "        # Convert to CPU numpy for easy accumulation\n",
    "        out_np = out.detach().cpu().numpy()\n",
    "\n",
    "        # Accumulate batch by batch\n",
    "        if layer_name not in activation_histograms_quant:\n",
    "            activation_histograms_quant[layer_name] = []\n",
    "        activation_histograms_quant[layer_name].append(out_np)\n",
    "    return hook"
   ]
  },
  {
   "cell_type": "code",
   "execution_count": 36,
   "id": "bea0e04c-6b90-4386-a15f-9c01323f2043",
   "metadata": {},
   "outputs": [
    {
     "data": {
      "text/plain": [
       "<torch.utils.hooks.RemovableHandle at 0x7f89f5cd43d0>"
      ]
     },
     "execution_count": 36,
     "metadata": {},
     "output_type": "execute_result"
    }
   ],
   "source": [
    "# Clear dictionary in case we re-run multiple times\n",
    "activation_histograms_quant.clear()\n",
    "\n",
    "quant_model.encoder.register_forward_hook(activation_hook(\"encoder\"))\n",
    "quant_model.label_encoder.register_forward_hook(activation_hook(\"label_encoder\"))\n",
    "quant_model.rnn.register_forward_hook(activation_hook(\"rnn\"))\n",
    "quant_model.decoder.register_forward_hook(activation_hook(\"decoder\"))"
   ]
  },
  {
   "cell_type": "code",
   "execution_count": null,
   "id": "be42581c-1ab6-41b2-9207-ad587be8a3e1",
   "metadata": {},
   "outputs": [
    {
     "name": "stderr",
     "output_type": "stream",
     "text": [
      "Evaluating (test):  92%|█████████████████████████████████████████████████████████████████████████████████████████████████████████████████████████████████████████▌            | 11/12 [03:59<00:20, 20.37s/it]"
     ]
    }
   ],
   "source": [
    "test_loss, test_acc = evaluate(ActCheckIterator, quant_model, criterion, mode='test', model_state='quant')\n",
    "print('=' * 89)\n",
    "print(f'Test Loss: {test_loss} | Test Acc before calibration:  {test_acc}')\n",
    "print('=' * 89)"
   ]
  },
  {
   "cell_type": "code",
   "execution_count": null,
   "id": "7eddc7e9-e06e-481e-a486-663f162339db",
   "metadata": {},
   "outputs": [],
   "source": [
    "for layer_name, acts_list in activation_histograms_quant.items():\n",
    "    # Merge all batches along the first dimension\n",
    "    # If these are shape [batch_size, ...], \n",
    "    # you'll get a big array with shape [num_samples, ...].\n",
    "    acts = np.concatenate(acts_list, axis=0)\n",
    "\n",
    "    # Flatten for histogram\n",
    "    flattened_acts = acts.flatten()\n",
    "\n",
    "    plt.figure(figsize=(8, 5))\n",
    "    plt.hist(flattened_acts, bins=50, alpha=0.7, color='blue')\n",
    "    plt.title(f'Quant Model Activation Distribution: {layer_name}')\n",
    "    plt.xlabel('Activation Value')\n",
    "    plt.ylabel('Frequency')\n",
    "    plt.grid(True)\n",
    "    plt.show()\n",
    "\n",
    "# def plot_activation_histograms(activation_histograms):\n",
    "#     for layer_name, activations in activation_histograms.items():\n",
    "#         # Flatten the activations for histogram plotting\n",
    "#         flattened_activations = activations.flatten()\n",
    "#         plt.figure(figsize=(10, 6))\n",
    "#         plt.hist(flattened_activations, bins=50, alpha=0.7, color='blue')\n",
    "#         plt.title(f'Activation Distribution for {layer_name}')\n",
    "#         plt.xlabel('Activation Value')\n",
    "#         plt.ylabel('Frequency')\n",
    "#         plt.grid(True)\n",
    "#         plt.show()\n",
    "\n",
    "# # Call this function to visualize histograms\n",
    "# plot_activation_histograms(activation_histograms)"
   ]
  },
  {
   "cell_type": "code",
   "execution_count": null,
   "id": "663e881f-879a-4510-8c8c-69b251c527c5",
   "metadata": {},
   "outputs": [],
   "source": [
    "def save_activation_histograms(activation_histograms_quant, folder=\"activation_histograms_quant\"):\n",
    "    os.makedirs(folder, exist_ok=True)  # Create directory if it doesn't exist\n",
    "\n",
    "    for layer_name, acts_list in activation_histograms_quant.items():\n",
    "        acts = np.concatenate(acts_list, axis=0)\n",
    "\n",
    "        # Flatten for histogram\n",
    "        flattened_activations = acts.flatten()\n",
    "\n",
    "        # Save the histogram as an image\n",
    "        plt.figure(figsize=(10, 6))\n",
    "        plt.hist(flattened_activations, bins=50, alpha=0.7, color='blue')\n",
    "        plt.title(f'Activation Distribution for {layer_name}')\n",
    "        plt.xlabel('Activation Value')\n",
    "        plt.ylabel('Frequency')\n",
    "        plt.grid(True)\n",
    "\n",
    "        file_path = os.path.join(folder, f\"{layer_name}_histogram.png\")\n",
    "        plt.savefig(file_path)\n",
    "        plt.close()  # Close figure to free memory\n",
    "\n",
    "        print(f\"Saved histogram image: {file_path}\")\n",
    "\n",
    "# Call this function after running a forward pass\n",
    "save_activation_histograms(activation_histograms_quant)"
   ]
  },
  {
   "cell_type": "code",
   "execution_count": null,
   "id": "40cc38b4-e328-41d1-a2c8-8f91d18420e5",
   "metadata": {},
   "outputs": [],
   "source": []
  }
 ],
 "metadata": {
  "kernelspec": {
   "display_name": "Python 3 (ipykernel)",
   "language": "python",
   "name": "python3"
  },
  "language_info": {
   "codemirror_mode": {
    "name": "ipython",
    "version": 3
   },
   "file_extension": ".py",
   "mimetype": "text/x-python",
   "name": "python",
   "nbconvert_exporter": "python",
   "pygments_lexer": "ipython3",
   "version": "3.11.5"
  }
 },
 "nbformat": 4,
 "nbformat_minor": 5
}
